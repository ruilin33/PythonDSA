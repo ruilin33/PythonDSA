{
 "cells": [
  {
   "cell_type": "code",
   "execution_count": 9,
   "metadata": {
    "collapsed": true,
    "pycharm": {
     "is_executing": false
    }
   },
   "outputs": [
    {
     "name": "stdout",
     "text": [
      "concat  0.857721459000004 milliseconds\nconcat  0.0626170440000351 milliseconds\nconcat  0.06031840400009969 milliseconds\nconcat  0.05907579099994109 milliseconds\n"
     ],
     "output_type": "stream"
    }
   ],
   "source": [
    "def test1():\n",
    "    l = []\n",
    "    for i in range(1000):\n",
    "        l = l + [i]\n",
    "        \n",
    "def test2():\n",
    "    l = []\n",
    "    for i in range(1000):\n",
    "        l.append(i)\n",
    "        \n",
    "def test3():\n",
    "    l = [i for i in range(1000)]\n",
    "    \n",
    "def test4():\n",
    "    l = list(range(1000))\n",
    "    \n",
    "    \n",
    "import timeit\n",
    "from timeit import Timer\n",
    "\n",
    "t1 = Timer(\"test1()\",\"from __main__ import test1\")\n",
    "print(\"concat \",t1.timeit(number=1000),\"milliseconds\")\n",
    "\n",
    "t2 = Timer(\"test2()\",\"from __main__ import test2\")\n",
    "print(\"concat \",t2.timeit(number=1000),\"milliseconds\")\n",
    "\n",
    "t3 = Timer(\"test3()\",\"from __main__ import test3\")\n",
    "print(\"concat \",t2.timeit(number=1000),\"milliseconds\")\n",
    "\n",
    "t4 = Timer(\"test4()\",\"from __main__ import test4\")\n",
    "print(\"concat \",t2.timeit(number=1000),\"milliseconds\")\n"
   ]
  },
  {
   "cell_type": "markdown",
   "source": [
    "### Help about Timeit\n",
    " Timer is builtins.object:\n",
    " class Timer(builtins.object)\n",
    " - attribute: The constructor takes a statement to be timed, an additional statement used for setup,\n",
    " - method: timeit(self, number=1000000) Time 'number' executions of the main statement."
   ],
   "metadata": {
    "collapsed": false,
    "pycharm": {
     "name": "#%% md\n",
     "is_executing": false
    }
   }
  },
  {
   "cell_type": "code",
   "execution_count": 10,
   "outputs": [
    {
     "data": {
      "text/plain": "0.9479236840002159"
     },
     "metadata": {},
     "output_type": "execute_result",
     "execution_count": 10
    }
   ],
   "source": [
    "pop_zero = Timer(\"x.pop(0)\",\"from __main__ import x\")\n",
    "pop_end = Timer(\"x.pop()\",\"from __main__ import x\")\n",
    "x = list(range(2000000))\n",
    "pop_zero.timeit(number=1000)"
   ],
   "metadata": {
    "collapsed": false,
    "pycharm": {
     "name": "#%%\n",
     "is_executing": false
    }
   }
  },
  {
   "cell_type": "code",
   "execution_count": 11,
   "outputs": [
    {
     "data": {
      "text/plain": "0.00011347800045768963"
     },
     "metadata": {},
     "output_type": "execute_result",
     "execution_count": 11
    }
   ],
   "source": [
    "x = list(range(2000000))\n",
    "pop_end.timeit(number=1000)"
   ],
   "metadata": {
    "collapsed": false,
    "pycharm": {
     "name": "#%%\n",
     "is_executing": false
    }
   }
  },
  {
   "cell_type": "code",
   "execution_count": 1,
   "outputs": [
    {
     "name": "stdout",
     "text": [
      "10000,     0.055,     0.001\n30000,     0.167,     0.001\n",
      "50000,     0.313,     0.001\n",
      "70000,     0.411,     0.001\n",
      "90000,     0.517,     0.002\n",
      "110000,     0.734,     0.001\n",
      "130000,     0.748,     0.001\n",
      "150000,     0.861,     0.001\n",
      "170000,     1.002,     0.001\n",
      "190000,     1.125,     0.001\n",
      "210000,     1.292,     0.001\n",
      "230000,     1.458,     0.001\n",
      "250000,     1.450,     0.001\n",
      "270000,     1.572,     0.001\n",
      "290000,     2.046,     0.001\n",
      "310000,     1.874,     0.001\n",
      "330000,     1.931,     0.001\n",
      "350000,     2.100,     0.001\n",
      "370000,     2.189,     0.001\n",
      "390000,     2.272,     0.001\n",
      "410000,     2.392,     0.001\n",
      "430000,     2.516,     0.001\n",
      "450000,     2.577,     0.001\n",
      "470000,     2.861,     0.001\n",
      "490000,     2.929,     0.001\n",
      "510000,     3.080,     0.001\n",
      "530000,     3.284,     0.001\n",
      "550000,     3.308,     0.001\n",
      "570000,     3.331,     0.001\n",
      "590000,     3.934,     0.001\n",
      "610000,     3.912,     0.001\n",
      "630000,     3.882,     0.001\n",
      "650000,     3.944,     0.001\n",
      "670000,     4.417,     0.001\n",
      "690000,     4.175,     0.001\n",
      "710000,     4.085,     0.001\n",
      "730000,     4.280,     0.001\n",
      "750000,     4.463,     0.001\n",
      "770000,     4.604,     0.003\n",
      "790000,     4.561,     0.001\n",
      "810000,     4.846,     0.002\n",
      "830000,     4.869,     0.001\n",
      "850000,     5.069,     0.001\n",
      "870000,     5.124,     0.001\n",
      "890000,     5.320,     0.001\n",
      "910000,     5.402,     0.001\n",
      "930000,     5.395,     0.001\n",
      "950000,     5.761,     0.001\n",
      "970000,     6.035,     0.001\n",
      "990000,     6.160,     0.001\n"
     ],
     "output_type": "stream"
    }
   ],
   "source": [
    "# random.randrange(start, stop[, step])\n",
    "# Return a randomly selected element from range(start, stop, step). Similar with range().\n",
    "\n",
    "import timeit\n",
    "import random\n",
    "\n",
    "for i in range(10000,1000001,20000):\n",
    "    t = timeit.Timer(\"random.randrange(%d) in x\"%i,\n",
    "                     \"from __main__ import random, x\")\n",
    "    x = list(range(i))\n",
    "    lst_time = t.timeit(number = 1000)\n",
    "    x = {j:None for j in range(i)}\n",
    "    dic_time = t.timeit(number = 1000)\n",
    "    print(\"%d,%10.3f,%10.3f\" % (i,lst_time, dic_time))\n",
    " "
   ],
   "metadata": {
    "collapsed": false,
    "pycharm": {
     "name": "#%%\n",
     "is_executing": false
    }
   }
  }
 ],
 "metadata": {
  "kernelspec": {
   "display_name": "Python 3",
   "language": "python",
   "name": "python3"
  },
  "language_info": {
   "codemirror_mode": {
    "name": "ipython",
    "version": 2
   },
   "file_extension": ".py",
   "mimetype": "text/x-python",
   "name": "python",
   "nbconvert_exporter": "python",
   "pygments_lexer": "ipython2",
   "version": "2.7.6"
  },
  "pycharm": {
   "stem_cell": {
    "cell_type": "raw",
    "source": [],
    "metadata": {
     "collapsed": false
    }
   }
  }
 },
 "nbformat": 4,
 "nbformat_minor": 0
}